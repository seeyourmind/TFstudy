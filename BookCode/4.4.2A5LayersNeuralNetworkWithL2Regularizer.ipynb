{
 "cells": [
  {
   "cell_type": "code",
   "execution_count": 16,
   "metadata": {},
   "outputs": [
    {
     "name": "stdout",
     "output_type": "stream",
     "text": [
      "[ 0.1]\n"
     ]
    }
   ],
   "source": [
    "import tensorflow as tf\n",
    "\n",
    "# 获取一层神经网络边上的权重\n",
    "# 并将这个权重的L2正则化损失加入‘losses’集合\n",
    "def get_weight(shape, lambda_):\n",
    "    var = tf.Variable(tf.random_normal(shape), dtype=tf.float32)\n",
    "    # add_to_collection将参数加入集合\n",
    "    tf.add_to_collection('losses', tf.contrib.layers.l2_regularizer(lambda_)(var))\n",
    "    return var\n",
    "\n",
    "x = tf.placeholder(tf.float32, shape=(None, 2))\n",
    "y_ = tf.placeholder(tf.float32, shape=(None, 1))\n",
    "batch_size = 8\n",
    "# 定义每一层网络节点个数\n",
    "layer_dimension = [2, 10, 10, 10, 1]\n",
    "# 神经网络的层数\n",
    "n_layers = len(layer_dimension)\n",
    "\n",
    "# 当前层：维护前向传播时最深层的节点，初始为输入层\n",
    "cur_layer = x\n",
    "# 当前层节点个数\n",
    "in_dimension = layer_dimension[0]\n",
    "\n",
    "# 生成5层全连接神经网络结构\n",
    "for i in range(1, n_layers):\n",
    "    # layer_dimension[i]为下一层节点数\n",
    "    out_dimension = layer_dimension[i]\n",
    "    # 生成当前层权重和偏移量\n",
    "    weight = get_weight([in_dimension, out_dimension], 0.001)\n",
    "    bias = tf.Variable(tf.constant(0.1, shape=[out_dimension]))\n",
    "    # 使用ReLu激活函数\n",
    "    cur_layer = tf.nn.relu(tf.matmul(cur_layer, weight)+bias)\n",
    "    # 进入下一层之前，将下一层节点更新为当前节点\n",
    "    in_dimension = layer_dimension[i]\n",
    "    \n",
    "# 计算刻画模型在训练数据上表现的损失函数\n",
    "mes_loss = tf.reduce_mean(tf.square(y_-cur_layer))\n",
    "# 将均方误差加入损失集合\n",
    "tf.add_to_collection('losses', mes_loss)\n",
    "# get_collection返回集合列表，不同部分损失函数\n",
    "# add_n返回集合元素相加的结果，最终的损失函数\n",
    "loss = tf.add_n(tf.get_collection('losses'))"
   ]
  },
  {
   "cell_type": "code",
   "execution_count": null,
   "metadata": {
    "collapsed": true
   },
   "outputs": [],
   "source": []
  }
 ],
 "metadata": {
  "kernelspec": {
   "display_name": "Python 3",
   "language": "python",
   "name": "python3"
  },
  "language_info": {
   "codemirror_mode": {
    "name": "ipython",
    "version": 3
   },
   "file_extension": ".py",
   "mimetype": "text/x-python",
   "name": "python",
   "nbconvert_exporter": "python",
   "pygments_lexer": "ipython3",
   "version": "3.6.2"
  }
 },
 "nbformat": 4,
 "nbformat_minor": 2
}
