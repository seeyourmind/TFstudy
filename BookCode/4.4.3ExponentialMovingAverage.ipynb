{
 "cells": [
  {
   "cell_type": "code",
   "execution_count": 3,
   "metadata": {},
   "outputs": [
    {
     "name": "stdout",
     "output_type": "stream",
     "text": [
      "[0.0, 0.0]\n",
      "[5.0, 4.5]\n",
      "[10.0, 4.5549998]\n",
      "[10.0, 4.6094499]\n"
     ]
    }
   ],
   "source": [
    "import tensorflow as tf\n",
    "\n",
    "# 定义计算滑动平均的变量[必须是实数型变量]，初始值为0\n",
    "v1 = tf.Variable(0, dtype=tf.float32)\n",
    "# 定义模拟神经网络迭代轮数，可用于动态控制衰减率，不被训练\n",
    "step = tf.Variable(0, trainable=False)\n",
    "\n",
    "# 定义滑动平均的类，初始衰减率0.99，控制衰减率的变量step\n",
    "ema = tf.train.ExponentialMovingAverage(decay=0.99, num_updates=step)\n",
    "# 定义更新变量滑动平均的操作\n",
    "# 这里给定是一个列表，每次apply(update_var_list)执行是更新列表中变量\n",
    "maintain_averages_op = ema.apply([v1])\n",
    "\n",
    "with tf.Session() as sess:\n",
    "    # 初始化所有变量\n",
    "    init_op = tf.global_variables_initializer()\n",
    "    sess.run(init_op)\n",
    "    # average()函数获取滑动平均之后变量的值\n",
    "    # 滑动平均不会改变变量本身的取值，而是维护一个shadow来记录滑动平均值\n",
    "    # 当需要使用这个滑动平均值的时候，需要明确调用average()函数\n",
    "    print(sess.run([v1, ema.average(v1)]))\n",
    "    \n",
    "    # 更新变量v1为5\n",
    "    sess.run(tf.assign(v1, 5))\n",
    "    # 更新v1的滑动平均值\n",
    "    # 衰减率为min{0.99, (1+step)/(10+step)}\n",
    "    sess.run(maintain_averages_op)\n",
    "    print(sess.run([v1, ema.average(v1)]))\n",
    "    \n",
    "    # 继续更新\n",
    "    sess.run(tf.assign(step, 10000))\n",
    "    sess.run(tf.assign(v1, 10))\n",
    "    sess.run(maintain_averages_op)\n",
    "    print(sess.run([v1, ema.average(v1)]))\n",
    "    \n",
    "    # 继续更新\n",
    "    sess.run(maintain_averages_op)\n",
    "    print(sess.run([v1, ema.average(v1)]))"
   ]
  },
  {
   "cell_type": "code",
   "execution_count": null,
   "metadata": {
    "collapsed": true
   },
   "outputs": [],
   "source": []
  }
 ],
 "metadata": {
  "kernelspec": {
   "display_name": "Python 3",
   "language": "python",
   "name": "python3"
  },
  "language_info": {
   "codemirror_mode": {
    "name": "ipython",
    "version": 3
   },
   "file_extension": ".py",
   "mimetype": "text/x-python",
   "name": "python",
   "nbconvert_exporter": "python",
   "pygments_lexer": "ipython3",
   "version": "3.6.2"
  }
 },
 "nbformat": 4,
 "nbformat_minor": 2
}
