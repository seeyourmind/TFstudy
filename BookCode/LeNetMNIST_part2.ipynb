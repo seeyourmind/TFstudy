{
 "cells": [
  {
   "cell_type": "code",
   "execution_count": 1,
   "metadata": {},
   "outputs": [
    {
     "name": "stdout",
     "output_type": "stream",
     "text": [
      "Extracting MNIST_DATA/train-images-idx3-ubyte.gz\n",
      "Extracting MNIST_DATA/train-labels-idx1-ubyte.gz\n",
      "Extracting MNIST_DATA/t10k-images-idx3-ubyte.gz\n",
      "Extracting MNIST_DATA/t10k-labels-idx1-ubyte.gz\n",
      "After 1 training step(s), loss on training batch is 5.90015\n",
      "After 101 training step(s), loss on training batch is 1.57518e+07\n",
      "After 201 training step(s), loss on training batch is 1.55025e+07\n",
      "After 301 training step(s), loss on training batch is 1.52575e+07\n",
      "After 401 training step(s), loss on training batch is 1.50168e+07\n",
      "After 501 training step(s), loss on training batch is 1.47804e+07\n",
      "After 601 training step(s), loss on training batch is 1.45481e+07\n",
      "After 701 training step(s), loss on training batch is 1.43199e+07\n",
      "After 801 training step(s), loss on training batch is 1.40957e+07\n",
      "After 901 training step(s), loss on training batch is 1.38753e+07\n"
     ]
    },
    {
     "ename": "SystemExit",
     "evalue": "",
     "output_type": "error",
     "traceback": [
      "An exception has occurred, use %tb to see the full traceback.\n",
      "\u001b[0;31mSystemExit\u001b[0m\n"
     ]
    },
    {
     "name": "stderr",
     "output_type": "stream",
     "text": [
      "/home/fyzer/anaconda3/envs/tf/lib/python3.6/site-packages/IPython/core/interactiveshell.py:2870: UserWarning: To exit: use 'exit', 'quit', or Ctrl-D.\n",
      "  warn(\"To exit: use 'exit', 'quit', or Ctrl-D.\", stacklevel=1)\n"
     ]
    }
   ],
   "source": [
    "# -*- coding:utf-8 -*-\n",
    "'''\n",
    "本例是对5MNIST_ShuZiShiBieWenTi的优化处理\n",
    "part2: mnist_train.py\n",
    "主要用来训练神经网络，并将测试与验证数据分离\n",
    "Tensorflow-Slim为了简化卷积层的构建\n",
    "slim.conv2d(输入节点矩阵, 当前过滤器深度, 过滤器尺寸, [步长, 全0填充, 激活函数, 变量的命名空间])\n",
    "tf.concat(拼接维度, [待拼接矩阵列表])\n",
    "'''\n",
    "import os\n",
    "import numpy as np\n",
    "import tensorflow as tf\n",
    "from tensorflow.examples.tutorials.mnist import input_data\n",
    "import LeNetMNIST_part1 as mnist_inference\n",
    "\n",
    "# 配置神经网络参数\n",
    "BATCH_SIZE = 100\n",
    "LEARNING_RATE_BASE = 0.8\n",
    "LEARNING_RATE_DECAY = 0.99\n",
    "REGULARIZATION_RATE = 0.0001\n",
    "TRAINING_STEPS = 1000\n",
    "MOVING_AVERAGE_DECAY = 0.99\n",
    "# 模型保存的路径和文件名\n",
    "MODEL_SAVE_PATH = 'MNIST_MODEL'\n",
    "MODEL_NAME = 'model.ckpt'\n",
    "\n",
    "'''\n",
    "训练模型\n",
    "'''\n",
    "def train(mnist):\n",
    "    # 定义输入输出的placeholder\n",
    "    '''\n",
    "    修改x的格式，第一维表示数据的batch，后三维表示的图像尺寸和深度\n",
    "    '''\n",
    "    x = tf.placeholder(tf.float32, [BATCH_SIZE, mnist_inference.IMAGE_SIZE, mnist_inference.IMAGE_SIZE, mnist_inference.NUM_CHANNELS], name='x-input')\n",
    "    y_ = tf.placeholder(tf.float32, [None, mnist_inference.OUTPUT_NODE], name='y-input')\n",
    "    # 定义L2正则化损失函数\n",
    "    regularizer = tf.contrib.layers.l2_regularizer(REGULARIZATION_RATE)\n",
    "    \n",
    "    # 前向传播\n",
    "    y = mnist_inference.inference(x, train=True, avg_class=None, regularizer=regularizer)\n",
    "    global_step = tf.Variable(0, trainable=False)\n",
    "    # 带滑动平均模型的前向传播\n",
    "    variable_averages = tf.train.ExponentialMovingAverage(decay=MOVING_AVERAGE_DECAY, num_updates=global_step)\n",
    "    variables_averages_op = variable_averages.apply(tf.trainable_variables())\n",
    "    #average_y = mnist_inference.inference(x, variable_averages, regularizer)\n",
    "    \n",
    "    # 计算损失函数\n",
    "    cross_entropy = tf.nn.sparse_softmax_cross_entropy_with_logits(labels=tf.argmax(y_,1), logits=y)\n",
    "    cross_entropy_mean = tf.reduce_mean(cross_entropy)\n",
    "    loss = cross_entropy_mean+tf.add_n(tf.get_collection('losses'))\n",
    "    \n",
    "    # 反向传播\n",
    "    # 设置指数衰减的学习率\n",
    "    learning_rate = tf.train.exponential_decay(LEARNING_RATE_BASE, global_step, mnist.train.num_examples/BATCH_SIZE, LEARNING_RATE_DECAY)\n",
    "    # 定义优化损失函数\n",
    "    train_step = tf.train.GradientDescentOptimizer(learning_rate).minimize(loss, global_step=global_step)\n",
    "    \n",
    "    # 更新参数[不带滑动平均]\n",
    "    # 下面的语句将无效，然后在sess.run中，改为：\n",
    "    # sess.run(train_step, feed_dict={x:xs, y_:ys})\n",
    "    # 更新参数[反向传播+滑动平均]\n",
    "    with tf.control_dependencies([train_step, variables_averages_op]):\n",
    "        train_op = tf.no_op(name='train')# 什么也不做\n",
    "    \n",
    "    # 初始化Tensorflow持久化类\n",
    "    saver = tf.train.Saver()\n",
    "    \n",
    "    # 初始化会话并开始训练\n",
    "    with tf.Session() as sess:\n",
    "        # 初始化所有变量\n",
    "        tf.global_variables_initializer().run()\n",
    "        \n",
    "        # 迭代训练神经网络\n",
    "        for i in range(TRAINING_STEPS):\n",
    "            # 产生本轮batch的训练数据，并运行训练程序\n",
    "            xs, ys = mnist.train.next_batch(BATCH_SIZE)\n",
    "            '''\n",
    "            修改xs的格式，将其转为四维\n",
    "            此处的reshape应该使用numpy包中的方法，而非tf.reshape\n",
    "            因为feed_dict不支持输入参数为张量\n",
    "            '''\n",
    "            reshaped_xs = np.reshape(xs, [BATCH_SIZE, mnist_inference.IMAGE_SIZE, mnist_inference.IMAGE_SIZE, mnist_inference.NUM_CHANNELS])\n",
    "            _, loss_value, step = sess.run([train_op, loss, global_step], feed_dict={x:reshaped_xs, y_:ys})\n",
    "            # 每1000轮保存一次模型\n",
    "            if i%100 == 0:\n",
    "                # 通过损失函数的大小了解本轮训练的基本情况\n",
    "                print(\"After %d training step(s), loss on training batch is %g\"%(step, loss_value))\n",
    "                # 保存模型，给出global_step参数可以让每个被保存的文件名末尾加上训练的轮数\n",
    "                saver.save(sess, os.path.join(MODEL_SAVE_PATH, MODEL_NAME), global_step=global_step)\n",
    "                \n",
    "    return 0\n",
    "    \n",
    "# 主程序入口\n",
    "def main(argv=None):\n",
    "    # 如果指定路径下没有数据，则自动下载\n",
    "    mnist = input_data.read_data_sets(\"MNIST_DATA\", one_hot=True)\n",
    "    train(mnist)\n",
    "# TensorFlow提供的一个主程序入口\n",
    "if __name__ == '__main__':\n",
    "    tf.app.run()"
   ]
  },
  {
   "cell_type": "code",
   "execution_count": null,
   "metadata": {
    "collapsed": true
   },
   "outputs": [],
   "source": []
  },
  {
   "cell_type": "code",
   "execution_count": null,
   "metadata": {
    "collapsed": true
   },
   "outputs": [],
   "source": []
  }
 ],
 "metadata": {
  "kernelspec": {
   "display_name": "Python 3",
   "language": "python",
   "name": "python3"
  },
  "language_info": {
   "codemirror_mode": {
    "name": "ipython",
    "version": 3
   },
   "file_extension": ".py",
   "mimetype": "text/x-python",
   "name": "python",
   "nbconvert_exporter": "python",
   "pygments_lexer": "ipython3",
   "version": "3.6.2"
  }
 },
 "nbformat": 4,
 "nbformat_minor": 2
}
