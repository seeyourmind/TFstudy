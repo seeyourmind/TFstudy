{
 "cells": [
  {
   "cell_type": "code",
   "execution_count": 1,
   "metadata": {
    "collapsed": true
   },
   "outputs": [],
   "source": [
    "# -*- coding:utf-8 -*-\n",
    "'''\n",
    "本例是对5MNIST_ShuZiShiBieWenTi的优化处理\n",
    "part1: mnist_inference.py\n",
    "主要用来构建三层神经网络的全连接结构\n",
    "'''\n",
    "import tensorflow as tf\n",
    "\n",
    "# 配置神经网络参数\n",
    "INPUT_NODE = 784\n",
    "OUTPUT_NODE = 10\n",
    "LAYER1_NODE = 500\n",
    "\n",
    "'''\n",
    "生成weights变量[get_varibale]\n",
    "支持正则化损失函数\n",
    "'''\n",
    "def get_weight_variable(shape, regularizer):\n",
    "    weights = tf.get_variable('weights', shape, initializer=tf.truncated_normal_initializer(stddev=0.1))\n",
    "    if regularizer != None:\n",
    "        tf.add_to_collection('losses', regularizer(weights))  \n",
    "    return weights\n",
    "\n",
    "'''\n",
    "生成biases变量[get_varibale]\n",
    "'''\n",
    "def get_biase_variable(shape):\n",
    "    biases = tf.get_variable('biases', shape, initializer=tf.constant_initializer(0.0))\n",
    "    return biases\n",
    "\n",
    "'''\n",
    "定义前向传播过程\n",
    "支持滑动平均模型\n",
    "支持正则化损失函数\n",
    "'''\n",
    "def inference(input_tensor, avg_class, regularizer, reuse=False):\n",
    "    # 定义第一层神经网络的变量\n",
    "    with tf.variable_scope('layer1', reuse=reuse):\n",
    "        weights = get_weight_variable([INPUT_NODE, LAYER1_NODE], regularizer)\n",
    "        biases = get_biase_variable([LAYER1_NODE])\n",
    "    # 定义第二层神经网络的变量\n",
    "    with tf.variable_scope('layer2', reuse=reuse):\n",
    "        weights = get_weight_variable([LAYER1_NODE, OUTPUT_NODE], regularizer)\n",
    "        biases = get_biase_variable([OUTPUT_NODE]) \n",
    "    # 定义前向传播过程\n",
    "    with tf.variable_scope('', reuse=True):\n",
    "        # 获取权重与偏移量\n",
    "        weights1 = tf.get_variable('layer1/weights', [INPUT_NODE, LAYER1_NODE])\n",
    "        biases1 = tf.get_variable('layer1/biases', [LAYER1_NODE])\n",
    "        weights2 = tf.get_variable('layer2/weights', [LAYER1_NODE, OUTPUT_NODE])\n",
    "        biases2 = tf.get_variable('layer2/biases', [OUTPUT_NODE])\n",
    "        # 判断是否使用滑动平均模型\n",
    "        if avg_class == None:\n",
    "            layer1 = tf.nn.relu(tf.matmul(input_tensor, weights1)+biases1)\n",
    "            return tf.matmul(layer1, weights2)+biases2\n",
    "        else:\n",
    "            layer1 = tf.nn.relu(tf.matmul(input_tensor, avg_class.average(weights1))+avg_class.average(biases1))\n",
    "            return tf.matmul(layer1, avg_class.average(weights2))+avg_class.average(biases2)"
   ]
  },
  {
   "cell_type": "code",
   "execution_count": null,
   "metadata": {
    "collapsed": true
   },
   "outputs": [],
   "source": []
  }
 ],
 "metadata": {
  "kernelspec": {
   "display_name": "Python 3",
   "language": "python",
   "name": "python3"
  },
  "language_info": {
   "codemirror_mode": {
    "name": "ipython",
    "version": 3
   },
   "file_extension": ".py",
   "mimetype": "text/x-python",
   "name": "python",
   "nbconvert_exporter": "python",
   "pygments_lexer": "ipython3",
   "version": "3.6.2"
  }
 },
 "nbformat": 4,
 "nbformat_minor": 2
}
