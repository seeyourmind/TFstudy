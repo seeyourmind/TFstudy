{
 "cells": [
  {
   "cell_type": "code",
   "execution_count": 1,
   "metadata": {},
   "outputs": [
    {
     "name": "stdout",
     "output_type": "stream",
     "text": [
      "Extracting MNIST_DATA/train-images-idx3-ubyte.gz\n",
      "Extracting MNIST_DATA/train-labels-idx1-ubyte.gz\n",
      "Extracting MNIST_DATA/t10k-images-idx3-ubyte.gz\n",
      "Extracting MNIST_DATA/t10k-labels-idx1-ubyte.gz\n",
      "done\n"
     ]
    },
    {
     "ename": "SystemExit",
     "evalue": "",
     "output_type": "error",
     "traceback": [
      "An exception has occurred, use %tb to see the full traceback.\n",
      "\u001b[0;31mSystemExit\u001b[0m\n"
     ]
    },
    {
     "name": "stderr",
     "output_type": "stream",
     "text": [
      "/home/fyzer/anaconda3/envs/tf/lib/python3.6/site-packages/IPython/core/interactiveshell.py:2870: UserWarning: To exit: use 'exit', 'quit', or Ctrl-D.\n",
      "  warn(\"To exit: use 'exit', 'quit', or Ctrl-D.\", stacklevel=1)\n"
     ]
    }
   ],
   "source": [
    "'''\n",
    "tf.histogram_summary--记录张量监控数据随迭代进行的变化趋势[HISTOGRAMS][tf.summary.histogram]\n",
    "tf.scalar_summary-----记录标量监控数据随迭代进行的变化趋势[EVENTS][tf.summary.scalar]\n",
    "tf.image_summary------记录图片数据[IMAGES][tf.summary.image]\n",
    "tf.audio_summary------记录音频数据[AUDIO][tf.summary.audio]\n",
    "'''\n",
    "import tensorflow as tf\n",
    "from tensorflow.examples.tutorials.mnist import input_data\n",
    "\n",
    "SUMMARY_DIR = 'log/vomi'\n",
    "BATCH_SIZE = 100\n",
    "TRAIN_STEPS = 10000\n",
    "\n",
    "# 变量监控\n",
    "def variable_summaries(var, name):\n",
    "    with tf.name_scope('summaries'):\n",
    "        # 记录var所指的张量取值\n",
    "        tf.summary.histogram(name, var)\n",
    "        # 记录var平均值\n",
    "        mean = tf.reduce_mean(var)\n",
    "        tf.summary.scalar('mean/'+name, mean)\n",
    "        # 记录var标准差\n",
    "        stddev = tf.sqrt(tf.reduce_mean(tf.square(var-mean)))\n",
    "        tf.summary.scalar('stddev/'+name, stddev)\n",
    "\n",
    "# 生成一层全连接层神经网络\n",
    "def nn_layer(input_tensor, input_dim, output_dim, layer_name, act=tf.nn.relu):\n",
    "    # 规定同一层网络在一个命名空间下\n",
    "    with tf.name_scope(layer_name):\n",
    "        with tf.name_scope('weights'):\n",
    "            weights = tf.Variable(tf.truncated_normal([input_dim, output_dim], stddev=0.1))\n",
    "            variable_summaries(weights, layer_name+'/weights')\n",
    "        with tf.name_scope('biases'):\n",
    "            biases = tf.Variable(tf.constant(0.0, shape=[output_dim]))\n",
    "            variable_summaries(biases, layer_name+'/biases')\n",
    "        # 记录使用激活函数前的输出节点分布\n",
    "        with tf.name_scope('Wx_plus_b'):\n",
    "            preactivate = tf.matmul(input_tensor, weights) + biases\n",
    "            tf.summary.histogram(layer_name+'/pre_activations', preactivate)\n",
    "        # 记录使用激活函数后的输出节点分布\n",
    "        activations = act(preactivate, name='activation')\n",
    "        tf.summary.histogram(layer_name+'/activations', activations)\n",
    "        # 返回\n",
    "        return activations\n",
    "    \n",
    "def main(_):\n",
    "    mnist = input_data.read_data_sets(\"MNIST_DATA\", one_hot=True)\n",
    "    # 定义输入\n",
    "    with tf.name_scope('input'):\n",
    "        x = tf.placeholder(tf.float32, [None, 784], name='x-input')\n",
    "        y_ = tf.placeholder(tf.float32, [None, 10], name='y-input')\n",
    "    # 将输入向量还原成图片矩阵\n",
    "    # tf.image_summary将图片信息写入日志[old version]\n",
    "    with tf.name_scope('input_reshape'):\n",
    "        image_reshaped_input = tf.reshape(x, [-1, 28, 28, 1])\n",
    "        tf.summary.image('input', image_reshaped_input, 10)\n",
    "    \n",
    "    # 前向传播\n",
    "    hidden1 = nn_layer(x, 784, 500, 'layer1')# 第一层使用默认ReLu激活函数\n",
    "    y = nn_layer(hidden1, 500, 10, 'layer2', act=tf.identity)# 第二层tf.identity相当于x=y即未使用激活函数\n",
    "    \n",
    "    # 计算交叉熵，并记录日志\n",
    "    with tf.name_scope('cross_entropy'):\n",
    "        cross_entropy = tf.reduce_mean(tf.nn.sparse_softmax_cross_entropy_with_logits(labels=tf.argmax(y_,1), logits=y))\n",
    "        tf.summary.scalar('cross_entropy', cross_entropy)\n",
    "    \n",
    "    # 反向传播\n",
    "    with tf.name_scope('train'):\n",
    "        train_step = tf.train.GradientDescentOptimizer(0.001).minimize(cross_entropy)\n",
    "        \n",
    "    # 正确率\n",
    "    with tf.name_scope('accuracy'):\n",
    "        with tf.name_scope('correct_prediction'):\n",
    "            correct_prediction = tf.equal(tf.argmax(y, 1), tf.argmax(y_,1))\n",
    "        with tf.name_scope('accuracy'):\n",
    "            accuracy = tf.reduce_mean(tf.cast(correct_prediction, tf.float32))\n",
    "        tf.summary.scalar('accuracy', accuracy)\n",
    "    \n",
    "    # 执行所有日志生成操作\n",
    "    #f.merge_all_summaries()[old version]\n",
    "    merged = tf.summary.merge_all()\n",
    "    \n",
    "    with tf.Session() as sess:\n",
    "        # 初始化写日志的writer，并写入计算图\n",
    "        summary_writer = tf.summary.FileWriter(SUMMARY_DIR, sess.graph)\n",
    "        tf.global_variables_initializer().run()\n",
    "        for i in range(TRAIN_STEPS):\n",
    "            xs, ys = mnist.train.next_batch(BATCH_SIZE)\n",
    "            # 执行训练和日志生成操作，并返回日志\n",
    "            summary, _ =sess.run([merged, train_step], feed_dict={x:xs, y_:ys})\n",
    "            # 写入日志\n",
    "            summary_writer.add_summary(summary, i)\n",
    "    summary_writer.close()\n",
    "    print('done')\n",
    "\n",
    "if __name__ == '__main__':\n",
    "    tf.app.run()"
   ]
  },
  {
   "cell_type": "code",
   "execution_count": null,
   "metadata": {
    "collapsed": true
   },
   "outputs": [],
   "source": []
  }
 ],
 "metadata": {
  "kernelspec": {
   "display_name": "Python 3",
   "language": "python",
   "name": "python3"
  }
 },
 "nbformat": 4,
 "nbformat_minor": 2
}
