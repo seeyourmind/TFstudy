{
 "cells": [
  {
   "cell_type": "code",
   "execution_count": 2,
   "metadata": {},
   "outputs": [],
   "source": [
    "import tensorflow as tf\n",
    "\n",
    "input1 = tf.constant([1.0, 2.0, 3.0], name='input1')\n",
    "input2 = tf.Variable(tf.random_uniform([3]), name='input2')\n",
    "output = tf.add_n([input1, input2], name='add')\n",
    "\n",
    "# tf.train.SummaryWriter::old version\n",
    "writer = tf.summary.FileWriter('log', tf.get_default_graph())\n",
    "writer.close()"
   ]
  },
  {
   "cell_type": "code",
   "execution_count": 2,
   "metadata": {},
   "outputs": [
    {
     "name": "stdout",
     "output_type": "stream",
     "text": [
      "foo/bar:0\n",
      "bar/bar:0\n",
      "a/Variable:0\n",
      "b:0\n"
     ]
    },
    {
     "data": {
      "text/plain": [
       "\"\\nwith tf.name_scope('b'):\\n    tf.get_variable('b', [1])\\n\""
      ]
     },
     "execution_count": 2,
     "metadata": {},
     "output_type": "execute_result"
    }
   ],
   "source": [
    "'''\n",
    "命名空间管理\n",
    "tf.get_variable生成的变量受tf.variable_scope约束\n",
    "tf.Variable成成的变量受tf.name_scope约束\n",
    "'''\n",
    "import tensorflow as tf\n",
    "\n",
    "with tf.variable_scope('foo'):\n",
    "    a = tf.get_variable('bar', [1])\n",
    "    print(a.name)\n",
    "    \n",
    "with tf.variable_scope('bar'):\n",
    "    b = tf.get_variable('bar', [1])\n",
    "    print(b.name)\n",
    "    \n",
    "with tf.name_scope('a'):\n",
    "    a = tf.Variable([1])\n",
    "    print(a.name)\n",
    "    \n",
    "    a = tf.get_variable('b', [1])\n",
    "    print(a.name)\n",
    "'''\n",
    "with tf.name_scope('b'):\n",
    "    tf.get_variable('b', [1])# 报错：get_variable不受name_scope约束\n",
    "'''"
   ]
  },
  {
   "cell_type": "code",
   "execution_count": 3,
   "metadata": {
    "collapsed": true
   },
   "outputs": [],
   "source": [
    "import tensorflow as tf\n",
    "\n",
    "with tf.name_scope('input1'):\n",
    "    input1 = tf.constant([1.0, 2.0, 3.0], name='input1')\n",
    "with tf.name_scope('input2'):\n",
    "    input2 = tf.Variable(tf.random_uniform([3]), name='input2')\n",
    "output = tf.add_n([input1, input2], name='add')\n",
    "\n",
    "# tf.train.SummaryWriter::old version\n",
    "writer = tf.summary.FileWriter('log', tf.get_default_graph())\n",
    "writer.close()"
   ]
  },
  {
   "cell_type": "code",
   "execution_count": null,
   "metadata": {
    "collapsed": true
   },
   "outputs": [],
   "source": []
  }
 ],
 "metadata": {
  "kernelspec": {
   "display_name": "Python 3",
   "language": "python",
   "name": "python3"
  },
  "language_info": {
   "codemirror_mode": {
    "name": "ipython",
    "version": 3
   },
   "file_extension": ".py",
   "mimetype": "text/x-python",
   "name": "python",
   "nbconvert_exporter": "python",
   "pygments_lexer": "ipython3",
   "version": "3.6.2"
  }
 },
 "nbformat": 4,
 "nbformat_minor": 2
}
