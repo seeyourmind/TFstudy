{
 "cells": [
  {
   "cell_type": "code",
   "execution_count": 5,
   "metadata": {},
   "outputs": [
    {
     "name": "stdout",
     "output_type": "stream",
     "text": [
      "[ 0.]\n",
      "[ 1.]\n"
     ]
    }
   ],
   "source": [
    "import tensorflow as tf\n",
    "\n",
    "g1 = tf.Graph()\n",
    "with g1.as_default():\n",
    "    # 计算图g1中定义变量'v'，并设置初始值0\n",
    "    v = tf.get_variable(\"v\", initializer=tf.zeros_initializer, shape=[1])\n",
    "\n",
    "g2 = tf.Graph()\n",
    "with g2.as_default():\n",
    "    # 计算图g2中定义变量'v'，并设置初始值1\n",
    "    # v = tf.get_variable(\"v\", initializer=tf.ones_initializer(shape=[1]))#old version\n",
    "    v = tf.get_variable(\"v\", initializer=tf.ones_initializer, shape=[1])\n",
    "\n",
    "# 在计算图g1中读取变量‘v'\n",
    "with tf.Session(graph=g1) as sess:\n",
    "    # tf.initialize_all_variables().run()#old version\n",
    "    tf.global_variables_initializer().run()\n",
    "    with tf.variable_scope(\"\", reuse=True):\n",
    "        # 在计算图g1中，变量'v'的取值应该为0，[return 0.]\n",
    "        print(sess.run(tf.get_variable(\"v\")))\n",
    "\n",
    "# 在计算图g2中读取变量‘v'\n",
    "with tf.Session(graph=g2) as sess:\n",
    "    # tf.initialize_all_variables().run()#old version\n",
    "    tf.global_variables_initializer().run()\n",
    "    with tf.variable_scope(\"\", reuse=True):\n",
    "        # 在计算图g2中，变量'v'的取值应该为1，[return 1.]\n",
    "        print(sess.run(tf.get_variable(\"v\")))"
   ]
  },
  {
   "cell_type": "code",
   "execution_count": null,
   "metadata": {
    "collapsed": true
   },
   "outputs": [],
   "source": []
  }
 ],
 "metadata": {
  "kernelspec": {
   "display_name": "Python 3",
   "language": "python",
   "name": "python3"
  },
  "language_info": {
   "codemirror_mode": {
    "name": "ipython",
    "version": 3
   },
   "file_extension": ".py",
   "mimetype": "text/x-python",
   "name": "python",
   "nbconvert_exporter": "python",
   "pygments_lexer": "ipython3",
   "version": "3.6.2"
  }
 },
 "nbformat": 4,
 "nbformat_minor": 2
}
