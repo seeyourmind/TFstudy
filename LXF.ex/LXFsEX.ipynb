{
 "cells": [
  {
   "cell_type": "code",
   "execution_count": 2,
   "metadata": {},
   "outputs": [
    {
     "name": "stdout",
     "output_type": "stream",
     "text": [
      "1024 * 748 = 765952\n"
     ]
    }
   ],
   "source": [
    "print('1024 * 748 = %d'%(1024*748))"
   ]
  },
  {
   "cell_type": "code",
   "execution_count": 3,
   "metadata": {},
   "outputs": [
    {
     "name": "stdout",
     "output_type": "stream",
     "text": [
      "fyzer\n",
      "hello,fyzer\n"
     ]
    }
   ],
   "source": [
    "name = input()\n",
    "print('hello,%s'%name)"
   ]
  },
  {
   "cell_type": "code",
   "execution_count": 4,
   "metadata": {},
   "outputs": [
    {
     "name": "stdout",
     "output_type": "stream",
     "text": [
      "apple\n",
      "python\n",
      "c\n"
     ]
    }
   ],
   "source": [
    "L = [\n",
    "    ['apple', 'google', 'microsoft'],\n",
    "    ['java', 'python', 'c++'],\n",
    "    ['a', 'b', 'c']\n",
    "]\n",
    "print(L[0][0])\n",
    "print(L[1][1])\n",
    "print(L[2][2])"
   ]
  },
  {
   "cell_type": "code",
   "execution_count": 7,
   "metadata": {},
   "outputs": [
    {
     "name": "stdout",
     "output_type": "stream",
     "text": [
      "height=1.75\n",
      "weight=80.5\n",
      "bmi=26.29:过重\n"
     ]
    }
   ],
   "source": [
    "# -*- coding: utf-8 -*-\n",
    "height = input('height=')\n",
    "weight = input('weight=')\n",
    "height = float(height)\n",
    "weight = float(weight)\n",
    "bmi = weight/(height*height)\n",
    "if bmi < 18.5:\n",
    "    print('bmi=%.2f:过轻'%bmi)\n",
    "elif bmi <= 25:\n",
    "    print('bmi=%.2f:正常'%bmi)\n",
    "elif bmi <= 28:\n",
    "    print('bmi=%.2f:过重'%bmi)\n",
    "elif bmi <= 32:\n",
    "    print('bmi=%.2f:肥胖'%bmi)\n",
    "else:\n",
    "    print('bmi=%.2f:严重肥胖')"
   ]
  },
  {
   "cell_type": "code",
   "execution_count": 4,
   "metadata": {},
   "outputs": [
    {
     "name": "stdout",
     "output_type": "stream",
     "text": [
      "Bart\n",
      "Lisa\n",
      "Adam\n"
     ]
    }
   ],
   "source": [
    "# -*- coding:utf-8 -*-\n",
    "L = ['Bart', 'Lisa', 'Adam']#list类型\n",
    "L.append('Fyzer')\n",
    "L.pop()#删除list尾，也可指定index\n",
    "T = ('Bart', 'Lisa', 'Adam')#tuple类型\n",
    "for name in L:\n",
    "    print(name)"
   ]
  },
  {
   "cell_type": "code",
   "execution_count": 13,
   "metadata": {},
   "outputs": [
    {
     "name": "stdout",
     "output_type": "stream",
     "text": [
      "n1=0xff, n2=0x3e8\n"
     ]
    }
   ],
   "source": [
    "# -*- coding: utf-8 -*-\n",
    "n1 = 255\n",
    "n2 = 1000\n",
    "print('n1=%s, n2=%s'%(hex(n1), hex(n2))) #hex()将整数转换为十六进制字符串"
   ]
  },
  {
   "cell_type": "code",
   "execution_count": 17,
   "metadata": {},
   "outputs": [
    {
     "name": "stdout",
     "output_type": "stream",
     "text": [
      "输入您需要求根运算的整数：2\n",
      "sqrt2:1.414214\n"
     ]
    }
   ],
   "source": [
    "# -*- coding: utf-8 -*-\n",
    "import math\n",
    "\n",
    "num = input('输入您需要求根运算的整数：')\n",
    "num = int(num)\n",
    "#if not num isinstance(num)\n",
    "print('sqrt%d:%f'%(num,math.sqrt(2)))"
   ]
  },
  {
   "cell_type": "code",
   "execution_count": 18,
   "metadata": {},
   "outputs": [
    {
     "name": "stdout",
     "output_type": "stream",
     "text": [
      "测试成功\n"
     ]
    }
   ],
   "source": [
    "# -*- coding: utf-8 -*-\n",
    "# 求解一元二次方程：ax^2+bx+c=0\n",
    "import math\n",
    "\n",
    "def quadratic(a, b, c):\n",
    "    delta = float(math.pow(b,2)-(4*a*c))\n",
    "    if delta < 0:\n",
    "        pass\n",
    "    elif delta == 0:\n",
    "        x = float(-b/(2*a))\n",
    "        return x, x\n",
    "    else:\n",
    "        x1 = float((-b+math.sqrt(delta))/(2*a))\n",
    "        x2 = float((-b-math.sqrt(delta))/(2*a))\n",
    "        return x1, x2\n",
    "\n",
    "#testing\n",
    "if quadratic(2,3,1) != (-0.5, -1.0):\n",
    "    print('测试失败')\n",
    "elif quadratic(1,3,-4) != (1.0, -4.0):\n",
    "    print('测试失败')\n",
    "else:\n",
    "    print('测试成功')"
   ]
  },
  {
   "cell_type": "code",
   "execution_count": 17,
   "metadata": {},
   "outputs": [
    {
     "name": "stdout",
     "output_type": "stream",
     "text": [
      "测试成功\n"
     ]
    }
   ],
   "source": [
    "# -*-coding:utf-8-*-\n",
    "# 练习参数\n",
    "# *args:可变参数，接收一个tuple [*可以将一个list参数或tuple参数转换成可变参数]\n",
    "# **kv：关键字参数，接收一个dict\n",
    "# def product(x, *, x1, x2):\n",
    "def product(x, *ys, **kv,):\n",
    "    result = x;\n",
    "    for y in ys:\n",
    "        result = result * y\n",
    "    return result\n",
    "\n",
    "if product(5) != 5:\n",
    "    print('测试失败')\n",
    "elif product(5,6) != 30:\n",
    "    print('测试失败')\n",
    "elif product(5,6,7) != 210:\n",
    "    print('测试失败')\n",
    "elif product(5,6,7,9) != 1890:\n",
    "    print('测试失败')\n",
    "else:\n",
    "    try:\n",
    "        product()\n",
    "        print('测试失败')\n",
    "    except TypeError:\n",
    "        print('测试成功')"
   ]
  },
  {
   "cell_type": "code",
   "execution_count": 1,
   "metadata": {},
   "outputs": [
    {
     "name": "stdout",
     "output_type": "stream",
     "text": [
      "A --> C\n",
      "A --> B\n",
      "C --> B\n",
      "A --> C\n",
      "B --> A\n",
      "B --> C\n",
      "A --> C\n"
     ]
    }
   ],
   "source": [
    "# -*-coding:utf-8-*-\n",
    "# 汉诺塔问题\n",
    "def move(n, a, b, c):\n",
    "    if n == 1:\n",
    "        print(a, '-->', c)\n",
    "    else:\n",
    "        move(n-1, a, c, b)\n",
    "        print(a, '-->', c)\n",
    "        move(n-1, b, a, c)\n",
    "\n",
    "move(3, 'A', 'B', 'C')"
   ]
  },
  {
   "cell_type": "code",
   "execution_count": 26,
   "metadata": {},
   "outputs": [
    {
     "name": "stdout",
     "output_type": "stream",
     "text": [
      "测试成功\n"
     ]
    }
   ],
   "source": [
    "# -*-coding:utf-8-*-\n",
    "# slice切片\n",
    "L = ['Michael', 'Sarah', 'Tracy', 'Bob', 'Jack']\n",
    "#L[0:3]#L[-3:]后3个#L[:3]前3个#L[::2]隔一个\n",
    "\n",
    "def trim(s):\n",
    "    start = 0\n",
    "    end = len(s)-1\n",
    "    for i in range(1,len(s)):\n",
    "        start = i-1\n",
    "        if s[i-1] != ' ':\n",
    "            break\n",
    "    for i in range(1,len(s)):\n",
    "        end = len(s)-i\n",
    "        if s[len(s)-i] != ' ':\n",
    "            break\n",
    "    if start >= end:\n",
    "        return ''\n",
    "    else:\n",
    "        return s[start:end+1]\n",
    "    \n",
    "if trim('hello  ') != 'hello':\n",
    "    print('测试失败')\n",
    "elif trim('  hello') != 'hello':\n",
    "    print('测试失败')\n",
    "elif trim('  hello  ') != 'hello':\n",
    "    print('测试失败')\n",
    "elif trim(' hello world ') != 'hello world':\n",
    "    print('测试失败')\n",
    "elif trim('') != '':\n",
    "    print('测试失败')\n",
    "elif trim('    ') != '':\n",
    "    print('测试失败')\n",
    "else:\n",
    "    print('测试成功')"
   ]
  },
  {
   "cell_type": "code",
   "execution_count": 37,
   "metadata": {},
   "outputs": [
    {
     "name": "stdout",
     "output_type": "stream",
     "text": [
      "测试成功\n"
     ]
    }
   ],
   "source": [
    "# -*-coding:utf-8-*-\n",
    "'''\n",
    "from collections import Iterable #引入可迭代对象\n",
    "isinstance('abc', Iterable)\n",
    "\n",
    "# enumerate把list变成[索引-元素对]\n",
    "for i,value in enumerate(['A', 'B', 'C']):\n",
    "    print('i:%d, value:%s'%(i,value))\n",
    "'''\n",
    "def findMinAndMax(L):\n",
    "    if len(L) <= 0:\n",
    "        return (None, None)\n",
    "    else:\n",
    "        mini = L[0]\n",
    "        maxi = L[0]\n",
    "        for i in L:\n",
    "            if mini > i:\n",
    "                mini = i\n",
    "            if maxi < i:\n",
    "                maxi = i\n",
    "        return (mini, maxi)\n",
    "\n",
    "if findMinAndMax([]) != (None, None):\n",
    "    print('测试失败')\n",
    "elif findMinAndMax([7]) != (7,7):\n",
    "    print('测试失败')\n",
    "elif findMinAndMax([7,1]) != (1,7):\n",
    "    print('测试失败')\n",
    "elif findMinAndMax([7,1,3,9,5]) != (1,9):\n",
    "    print('测试失败')\n",
    "else:\n",
    "    print('测试成功')"
   ]
  },
  {
   "cell_type": "code",
   "execution_count": 40,
   "metadata": {},
   "outputs": [
    {
     "name": "stdout",
     "output_type": "stream",
     "text": [
      "['hello', 'world', 'apple']\n",
      "测试成功\n"
     ]
    }
   ],
   "source": [
    "# -*-coding:utf-8-*-\n",
    "# 列表生成式\n",
    "# [x*x for x in range(1,11) if x%2 == 0]\n",
    "# import os\n",
    "# [d for d in os.listdir('.')] #os.listdir可以列出当前路径下的文件和目录\n",
    "L1 = ['Hello', 'World', 18, 'Apple', None]\n",
    "L2 = [s.lower() for s in L1 if isinstance(s, str)]\n",
    "\n",
    "print(L2)\n",
    "if L2 == ['hello', 'world', 'apple']:\n",
    "    print('测试成功')\n",
    "else:\n",
    "    print('测试失败')"
   ]
  },
  {
   "cell_type": "code",
   "execution_count": 16,
   "metadata": {
    "collapsed": true
   },
   "outputs": [],
   "source": [
    "# -*-coding:utf-8 -*-\n",
    "# 生成器：边循环边计算的机制\n",
    "\n",
    "'''\n",
    "# 第一种写法\n",
    "# 将列表生成式中的[]换成()即可\n",
    "g = (x*x for x in range(10))\n",
    "# next(g) 结束抛出StopIteration异常\n",
    "for n in g:\n",
    "    print(n)\n",
    "\n",
    "# 第二种写法\n",
    "# 编写函数，yield相当于函数中的return，且下次执行以上次的yield为起点\n",
    "def fib(max):\n",
    "    n,a,b = 0,0,1\n",
    "    while n < max:\n",
    "        yield b\n",
    "        a,b = b,a+b\n",
    "        n = n+1\n",
    "    return 'done'\n",
    "def odd():\n",
    "    print('step1')\n",
    "    yield 1\n",
    "    print('step2')\n",
    "    yield 3\n",
    "    print('step3')\n",
    "    yield 5\n",
    "\n",
    "g = fib(6)\n",
    "while True:\n",
    "    try:\n",
    "        x = next(g)\n",
    "        print('g:',x)\n",
    "    except StopIteration as e:\n",
    "        print('Generator return value:', e.value)\n",
    "        break\n",
    "'''\n",
    "def triangles():\n",
    "    L = [1]\n",
    "    while True:\n",
    "        yield L\n",
    "        L = [x+L[i+1] for i,x in enumerate(L) if i!=len(L)-1]\n",
    "        L = [1] + L + [1]\n",
    "\n",
    "n = 0\n",
    "results = []\n",
    "for t in triangles():\n",
    "    results.append(t)\n",
    "    n = n+1\n",
    "    if n == 10:\n",
    "        break"
   ]
  },
  {
   "cell_type": "code",
   "execution_count": 4,
   "metadata": {},
   "outputs": [
    {
     "data": {
      "text/plain": [
       "True"
      ]
     },
     "execution_count": 4,
     "metadata": {},
     "output_type": "execute_result"
    }
   ],
   "source": [
    "from collections import Iterator#引入迭代器\n",
    "# isinstance((x for x in range(10)), Iterator)#生成器都是Iterator对象\n",
    "# isinstance(iter([]), Iterator)#iter()将可迭代对象Iteratable转换成迭代器对象Iterator\n",
    "# 可for的全是可迭代对象，可next()的全是迭代器对象"
   ]
  },
  {
   "cell_type": "code",
   "execution_count": 30,
   "metadata": {},
   "outputs": [
    {
     "name": "stdout",
     "output_type": "stream",
     "text": [
      "测试成功\n"
     ]
    }
   ],
   "source": [
    "# -*- coding:uft-8 -*-\n",
    "'''\n",
    "# map接收[fun, list]，为list中每一个元素依次执行fun\n",
    "def normalize(name):\n",
    "    return name.lower().capitalize()\n",
    "\n",
    "L = list(map(normalize, ['admin', 'LISA', 'barT']))\n",
    "print(L)\n",
    "\n",
    "# reduce接收参数[fun, list]，fun中接收两个参数\n",
    "# reduce将list的前两个元素传入fun运算\n",
    "# 运算结果与list下一个元素组合，传入fun运算\n",
    "from functools import reduce\n",
    "def prod(L):\n",
    "    def mult(x, y):\n",
    "        if isinstance(x, (int, float)) and isinstance(y, (int, float)):\n",
    "            return x*y\n",
    "        else:\n",
    "            print('输入参数格式错误')\n",
    "        return 0\n",
    "    return reduce(mult, L)\n",
    "\n",
    "if prod([3, 5, 7, 9]) == 945:\n",
    "    print('测试成功')\n",
    "else:\n",
    "    print('测试失败')\n",
    "'''\n",
    "from functools import reduce\n",
    "import math\n",
    "def str2float(s):\n",
    "    dot = s.index('.')\n",
    "    sl = len(s)\n",
    "    s = s[0:dot]+ s[dot+1:]\n",
    "    DIGITS = {'0':0, '1':1, '2':2, '3':3, '4':4, '5':5, '6':6, '7':7, '8':8, '9':9}\n",
    "    \n",
    "    return (reduce(lambda x,y:x*10+y, list(map(lambda x: DIGITS[x], s))))/math.pow(10,(sl-1-dot))\n",
    "if abs(str2float('1.23')-1.23) < 0.00001:\n",
    "    print('测试成功')\n",
    "else:\n",
    "    print('测试失败')"
   ]
  },
  {
   "cell_type": "code",
   "execution_count": 13,
   "metadata": {},
   "outputs": [
    {
     "name": "stdout",
     "output_type": "stream",
     "text": [
      "测试成功\n"
     ]
    }
   ],
   "source": [
    "# -*-coding:utf-8-*-\n",
    "'''\n",
    "# filter过滤序列，接收[fun, list]，将fun依次作用于list的每个元素\n",
    "# 素数--埃式筛法\n",
    "def _odd_iter():\n",
    "    n = 1\n",
    "    while True:\n",
    "        n = n+2\n",
    "        yield n\n",
    "def _not_divisible(n):\n",
    "    return lambda x:x%n>0\n",
    "def primes():\n",
    "    yield 2\n",
    "    it = _odd_iter()\n",
    "    while True:\n",
    "        n = next(it)\n",
    "        yield n\n",
    "        it = filter(_not_divisible(n), it)\n",
    "\n",
    "for n in primes():\n",
    "    if n<100:\n",
    "        print(n)\n",
    "    else:\n",
    "        break\n",
    "'''\n",
    "        \n",
    "# 回文数\n",
    "def is_palindrome(n):\n",
    "    ns = str(n)\n",
    "    nl = len(ns)\n",
    "    i = 0\n",
    "    while i < nl:\n",
    "        if ns[i] != ns[-(i+1)]:\n",
    "            return False\n",
    "        i=i+1\n",
    "    \n",
    "    return True\n",
    "# 人家的\n",
    "def _is_palindrome(n):\n",
    "    k = str(n)\n",
    "    return k == k[::-1]\n",
    "\n",
    "if list(filter(is_palindrome, range(1,200))) == [1,2,3,4,5,6,7,8,9,11,22,33,44,55,66,77,88,99,101,111,121,131,141,151,161,171,181,191]:\n",
    "    print('测试成功')\n",
    "else:\n",
    "    print('测试失败')"
   ]
  },
  {
   "cell_type": "code",
   "execution_count": 24,
   "metadata": {},
   "outputs": [
    {
     "data": {
      "text/plain": [
       "[('Adam', 92), ('Lisa', 88), ('Bob', 75), ('Bart', 66)]"
      ]
     },
     "execution_count": 24,
     "metadata": {},
     "output_type": "execute_result"
    }
   ],
   "source": [
    "# -*-coding:utf-8-*-\n",
    "# sorted排序[list, key, reverse]\n",
    "# 为list中每一元素执行key指向的函数[不支持lambda]，reverse=True反向排序\n",
    "def by_name(t):\n",
    "    return t[0].lower()\n",
    "def by_score(t):\n",
    "    return t[1]\n",
    "sorted([('Bob', 75), ('Adam', 92), ('Bart', 66), ('Lisa', 88)], key=by_score, reverse=True)"
   ]
  },
  {
   "cell_type": "code",
   "execution_count": 7,
   "metadata": {},
   "outputs": [
    {
     "name": "stdout",
     "output_type": "stream",
     "text": [
      "1 2 3\n"
     ]
    }
   ],
   "source": [
    "# -*-coding:utf-8-*-\n",
    "'''\n",
    "def count():\n",
    "    fs = []\n",
    "    for i in range(1,4):\n",
    "        def f():\n",
    "            return i*i\n",
    "        fs.append(f)\n",
    "    return fs\n",
    "f1,f2,f3 = count()\n",
    "print(f1(),f2(),f3())\n",
    "\n",
    "def count():\n",
    "    def f(j):\n",
    "        def g():\n",
    "            return j*j\n",
    "        return g\n",
    "    fs = []\n",
    "    for i in range(1,4):\n",
    "        fs.append(f(i))#f(i)被立即执行，因此i的当前值被传入f()\n",
    "    return fs\n",
    "f1,f2,f3 = count()\n",
    "print(f1(),f2(),f3())\n",
    "'''\n",
    "def createCounter(n = 0):\n",
    "    n = [0]\n",
    "    def counter():\n",
    "        #nonlocal n\n",
    "        n[0] += 1\n",
    "        return n[0]\n",
    "    return counter\n",
    "counter1 = createCounter()\n",
    "print(counter1(), counter1(), counter1())"
   ]
  },
  {
   "cell_type": "code",
   "execution_count": 8,
   "metadata": {},
   "outputs": [
    {
     "name": "stdout",
     "output_type": "stream",
     "text": [
      "[1, 3, 5, 7, 9, 11, 13, 15, 17, 19]\n"
     ]
    }
   ],
   "source": [
    "L = list(filter(lambda x:x%2==1, range(1,20)))\n",
    "print(L)"
   ]
  },
  {
   "cell_type": "code",
   "execution_count": 30,
   "metadata": {},
   "outputs": [
    {
     "name": "stdout",
     "output_type": "stream",
     "text": [
      " begin call 1537193065.021004\n",
      " end call 1537193065.0223477\n"
     ]
    },
    {
     "data": {
      "text/plain": [
       "33"
      ]
     },
     "execution_count": 30,
     "metadata": {},
     "output_type": "execute_result"
    }
   ],
   "source": [
    "# -*-coding:utf-8-*-\n",
    "# Decorator装饰器：在代码运行期间动态增加功能\n",
    "\n",
    "import time, functools\n",
    "\"\"\"\n",
    "def metric(fn):\n",
    "    @functools.wraps(fn)#比较有意思，可以自己看fast.__name__的变化来体会其用途\n",
    "    def wrapper(*args, **kv):\n",
    "        print('%s executed in %s ms'%(fn.__name__, time.time()))\n",
    "        return fn(*args, **kv)\n",
    "    return wrapper\n",
    "\n",
    "@metric\n",
    "def fast(x,y):\n",
    "    time.sleep(0.0012)\n",
    "    return x+y\n",
    "\n",
    "f = fast(11,22)\n",
    "fast.__name__\n",
    "\"\"\"\n",
    "def log(txt = ''):\n",
    "    def d(fn):\n",
    "        def w(*args, **kv):\n",
    "            print(txt, 'begin call', time.time())\n",
    "            res = fn(*args, **kv)\n",
    "            print(txt, 'end call', time.time())\n",
    "            return res\n",
    "        return w\n",
    "    return d\n",
    "@log()\n",
    "def fast(x,y):\n",
    "    return x+y\n",
    "fast(11,22)"
   ]
  },
  {
   "cell_type": "code",
   "execution_count": null,
   "metadata": {
    "collapsed": true
   },
   "outputs": [],
   "source": [
    "# -*-coding:utf-8-*-\n",
    "# Partial function偏函数：将函数的某个参数写死\n",
    "import functools\n",
    "int2 = functools.partial(int, base=2)"
   ]
  },
  {
   "cell_type": "code",
   "execution_count": null,
   "metadata": {
    "collapsed": true
   },
   "outputs": [],
   "source": []
  }
 ],
 "metadata": {
  "kernelspec": {
   "display_name": "Python 3",
   "language": "python",
   "name": "python3"
  },
  "language_info": {
   "codemirror_mode": {
    "name": "ipython",
    "version": 3
   },
   "file_extension": ".py",
   "mimetype": "text/x-python",
   "name": "python",
   "nbconvert_exporter": "python",
   "pygments_lexer": "ipython3",
   "version": "3.6.2"
  }
 },
 "nbformat": 4,
 "nbformat_minor": 2
}
